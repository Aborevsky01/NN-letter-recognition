{
 "cells": [
  {
   "cell_type": "markdown",
   "metadata": {},
   "source": [
    "# Neural network: letter identification"
   ]
  },
  {
   "cell_type": "markdown",
   "metadata": {},
   "source": [
    "                                                                           Project is fully ran by Andrei Borevskii"
   ]
  },
  {
   "cell_type": "markdown",
   "metadata": {},
   "source": [
    "## 1. Image processing\n",
    "\n",
    "### 1.1 Import of libraries"
   ]
  },
  {
   "cell_type": "code",
   "execution_count": 219,
   "metadata": {},
   "outputs": [],
   "source": [
    "from PIL import Image\n",
    "import numpy as np\n",
    "import matplotlib.pyplot as plt\n",
    "import os\n",
    "from sklearn.model_selection import train_test_split\n",
    "import shutil\n",
    "%matplotlib inline\n",
    "import random\n",
    "from random import randint\n",
    "from cmath import exp"
   ]
  },
  {
   "cell_type": "markdown",
   "metadata": {},
   "source": [
    "### 1.2 Distribution into datasets "
   ]
  },
  {
   "cell_type": "code",
   "execution_count": 221,
   "metadata": {},
   "outputs": [],
   "source": [
    "#scan the names of the initial images and split them into the two groups: train and test datasets \n",
    "universe = []\n",
    "\n",
    "for file in os.scandir(r'A'):\n",
    "    if file.name.endswith(\".png\"):\n",
    "        universe.insert(-1, 'A/' + file.name)\n",
    "        \n",
    "for file in os.scandir(r'O'):\n",
    "    if file.name.endswith(\".png\"):\n",
    "        universe.insert(-1, 'O/' + file.name)        \n",
    "        \n",
    "train, test = train_test_split(universe, test_size = 0.3, train_size = 0.7) "
   ]
  },
  {
   "cell_type": "code",
   "execution_count": 222,
   "metadata": {},
   "outputs": [],
   "source": [
    "#create new folders for the train & test datasets \n",
    "shutil.rmtree(\"train/A\")\n",
    "shutil.rmtree(\"train/O\")\n",
    "os.mkdir(\"train/A\")\n",
    "os.mkdir(\"train/O\")\n",
    "\n",
    "shutil.rmtree(\"test/A\")\n",
    "shutil.rmtree(\"test/O\")\n",
    "os.mkdir(\"test/A\")\n",
    "os.mkdir(\"test/O\")\n",
    "\n",
    "#minimize images to make them all of one particular size for the NN \n",
    "for file in train:\n",
    "    letter = Image.open(os.path.abspath(file))\n",
    "    letter.thumbnail((10, 10), Image.ANTIALIAS)\n",
    "    letter.save('train/{id}'.format(id = file), quality=95)  \n",
    "        \n",
    "for file in test:\n",
    "    letter = Image.open(os.path.abspath(file))\n",
    "    letter.thumbnail((10, 10), Image.ANTIALIAS)\n",
    "    letter.save('test/{id}'.format(id = file), quality=95)          "
   ]
  },
  {
   "cell_type": "markdown",
   "metadata": {},
   "source": [
    "### 1.3 Binary representation"
   ]
  },
  {
   "cell_type": "code",
   "execution_count": 312,
   "metadata": {},
   "outputs": [],
   "source": [
    "separator=255\n",
    "samples = []\n",
    "data = np.zeros((10, 10))\n",
    "\n",
    "#interpret of the train images as the binary arrays \n",
    "for file in train:\n",
    "    letter = Image.open(os.path.abspath('train/' + file))\n",
    "    data = np.array(letter.convert('L'))\n",
    "    data = data.astype('int')\n",
    "    for i in range(len(data)):\n",
    "        for j in range(len(data[0])):\n",
    "            data[i][j] = 1 if data[i][j] != separator else -1\n",
    "    samples.insert(-1, [data, file])    "
   ]
  },
  {
   "cell_type": "markdown",
   "metadata": {},
   "source": [
    "## 2. Structure of neural network"
   ]
  },
  {
   "cell_type": "markdown",
   "metadata": {},
   "source": [
    "### 2.1 Neurons & Activate function"
   ]
  },
  {
   "cell_type": "code",
   "execution_count": 486,
   "metadata": {},
   "outputs": [],
   "source": [
    "# calculate F'(sum) = F(sum) * (1 - F(sum)) = y(1 - y) for the sigmoid function\n",
    "def derivative(value):\n",
    "    temp = function(value)\n",
    "    return(temp * (1 - temp))\n",
    "\n",
    "# calculate the sigmoid function\n",
    "def function(value):\n",
    "    if (-8 < value < 7.5): return((1 / (1 + exp(-value))).real)\n",
    "    elif (value > -8): return 1\n",
    "    return 0\n",
    "        \n",
    "# Neurons in the hidden layers initially accept a list of random values, representing the initial weights\n",
    "class HiddenNeuron():\n",
    "    def __init__(self, *args):\n",
    "        self.weights = args[0]\n",
    "        self.input = 0\n",
    "        self.result = 0\n",
    "        self.sigma = 0\n",
    "        \n",
    "# Function add() is used to update neuron's sum - s\n",
    "    def add(self, injection):\n",
    "        self.input += injection\n",
    "        \n",
    "#Function calculate() assigns F(s) to the unit's output - y\n",
    "    def calculate(self):\n",
    "        self.result = function(self.input)\n",
    "\n",
    "# Input neurons initially accept not only the random weights, but also the value of assigned image's sector\n",
    "class InputNeuron():\n",
    "    def __init__(self, *args):\n",
    "        self.input = 0\n",
    "        self.weights = args[0]\n",
    "        self.result = 0\n",
    "        \n",
    "# Input neurons have a state of activation equal to the accepted value        \n",
    "    def calculate(self):\n",
    "        self.result = self.input\n",
    "\n",
    "    def assign(self, value):\n",
    "        self.input = value\n",
    "\n",
    "# Neurons in the output layer initially don't accept anything \n",
    "class OutputNeuron():\n",
    "    def __init__(self):\n",
    "        self.input = 0\n",
    "        self.input = 0\n",
    "        self.result = 0\n",
    "        self.sigma = 0\n",
    "        \n",
    "# The following functions are identical to those in the HiddenNeuron class       \n",
    "    def add(self, injection):\n",
    "        self.input += injection\n",
    "\n",
    "    def calculate(self):\n",
    "        self.result = function(self.input)        \n",
    "        "
   ]
  },
  {
   "cell_type": "markdown",
   "metadata": {},
   "source": [
    "### 2.2 Structure of Neural Network   "
   ]
  },
  {
   "cell_type": "code",
   "execution_count": 591,
   "metadata": {},
   "outputs": [],
   "source": [
    "# Neural network, when being created, accepts a frame of hidden layers - (*data)\n",
    "class NeuralNetwork:\n",
    "    def __init__(self, *data):\n",
    "        self.layers = [[OutputNeuron()]]\n",
    "        self.assumption = ''\n",
    "        self.counter = 0\n",
    "        self.cycles = 0\n",
    "        self.max = [0, 0, '']\n",
    "        self.correct = 0\n",
    "\n",
    "# One by one, hidden layers of set length are added to the network       \n",
    "        for i in range(len(data) - 1):\n",
    "            self.layers.insert(0, \n",
    "                [HiddenNeuron([random.uniform(-1, 1) for y in range(len(self.layers[0]))]) for j in range(data[i + 1])])\n",
    "\n",
    "        input_layer = []\n",
    "        for i in range(data[0]):\n",
    "            input_layer.insert(-1, InputNeuron([random.uniform(-1, 1) for y in range(len(self.layers[0]))]))\n",
    "        self.layers.insert(0, input_layer)\n",
    "            \n",
    "# Image's name and binary array are sent to the network through this function      \n",
    "    def request(self, data, image_name):\n",
    "        \n",
    "        # Input layer is created and added to the neural network\n",
    "        for i in range(len(data)):\n",
    "            for j in range(len(data[0])):\n",
    "                self.layers[0][len(data) * i + j].assign(data[i][j])\n",
    "        # After the desired answer is defined, the learning process starts\n",
    "        desired = 1 if image_name[0] == 'A' else 0\n",
    "        self.forward_propagate(desired)\n",
    "        self.counter += 1\n",
    "        if self.max[0] < self.cycles: \n",
    "            self.max[0] = self.cycles\n",
    "            self.max[1] = self.counter\n",
    "            self.max[2] = image_name\n",
    "        self.clear()\n",
    "        self.cycles = 0\n",
    "\n",
    "# First part of training - forward propagation without any changes in weights      \n",
    "    def forward_propagate(self, desired):\n",
    "        self.cycles += 1\n",
    "        for i in range(len(self.layers) - 1):\n",
    "            for j in range(len(self.layers[i])):\n",
    "                left_neuron = self.layers[i][j]\n",
    "                left_neuron.calculate()\n",
    "                for y in range(len(self.layers[i + 1])):\n",
    "                    self.layers[i + 1][y].add(left_neuron.result * left_neuron.weights[y])\n",
    "        self.layers[-1][0].calculate()\n",
    "        self.assumption = 'A' if self.layers[-1][0].result == 1 else 'O'\n",
    "\n",
    "        # Comparing the network's output with the desired answer\n",
    "        # If they're unequal, back-propagation is initiated\n",
    "        # The process repeats till the correct answer is given\n",
    "        if abs(self.layers[-1][0].result - desired) > 0.1:\n",
    "            self.back_propagate(desired)\n",
    "            self.forward_propagate(desired)\n",
    "\n",
    "\n",
    "# Function updates the weight of last hidden layer and then transfers the rest of the process to hidden_propagation()\n",
    "    def back_propagate(self, desired):\n",
    "        last_one = self.layers[-1][0]\n",
    "        last_one.sigma = (desired - last_one.result) * derivative(last_one.result)\n",
    "        for i in range(len(self.layers[-2])):\n",
    "            self.layers[-2][i].weights[0] += 1 * last_one.sigma * self.layers[-2][i].result\n",
    "        self.hidden_propagation(len(self.layers) - 2)\n",
    "        \n",
    "# The propagated error is calculated for the each neuron in a layer\n",
    "# After, the connections with the previous layer are updated \n",
    "    def hidden_propagation(self, left):\n",
    "        if left == 0: return\n",
    "        for i in range(len(self.layers[left])):\n",
    "            updated = self.layers[left][i]\n",
    "            error = 0\n",
    "            for j in range(len(updated.weights)):\n",
    "                error += updated.weights[j] * self.layers[left + 1][j].sigma\n",
    "            updated.sigma = derivative(updated.result) * error\n",
    "\n",
    "        left -= 1\n",
    "        for i in range(len(self.layers[left])):\n",
    "            activated = self.layers[left][i]\n",
    "            for j in range(len(activated.weights)):\n",
    "                activated.weights[j] += 1 * self.layers[left + 1][j].sigma * activated.result\n",
    "\n",
    "        return self.hidden_propagation(left)  \n",
    "\n",
    "# NN's structure needs to be refreshed with all values set to 0 from time to time    \n",
    "    def clear(self):\n",
    "        for i in range(1, len(self.layers)):\n",
    "            for j in range(len(self.layers[i])):\n",
    "                self.layers[i][j].input = 0\n",
    "\n",
    "# Trying the NN into the real task: no training allowed, one chance for each request\n",
    "    def testing(self, data, image_name):\n",
    "        for i in range(len(data)):\n",
    "            for j in range(len(data[0])):\n",
    "                self.layers[0][len(data) * i + j].assign(data[i][j])\n",
    "\n",
    "        answer = self.forward_test()\n",
    "        self.assumption = 'A' if answer == 1 else 'O'\n",
    "        self.counter += 1\n",
    "        if image_name[0] == 'F':\n",
    "            print(\"Testing № \" + str(self.counter) + \" completed. The requested image \"\n",
    "              + image_name[6:] + \" contained letter \" + self.assumption + '.')\n",
    "            if self.assumption == image_name[6]: self.correct += 1\n",
    "        else:\n",
    "            print(\"Testing № \" + str(self.counter) + \" completed. The requested image \"\n",
    "              + image_name[2:] + \" contained letter \" + self.assumption + '.')\n",
    "            if self.assumption == image_name[0]: self.correct += 1\n",
    "        self.clear()    \n",
    "\n",
    "    def forward_test(self):\n",
    "        for i in range(len(self.layers) - 1):\n",
    "            for j in range(len(self.layers[i])):\n",
    "                left_neuron = self.layers[i][j]\n",
    "                left_neuron.calculate()\n",
    "                for y in range(len(self.layers[i + 1])):\n",
    "                    self.layers[i + 1][y].add(left_neuron.result * left_neuron.weights[y])\n",
    "        self.layers[-1][0].calculate()\n",
    "        return self.layers[-1][0].result"
   ]
  },
  {
   "cell_type": "markdown",
   "metadata": {},
   "source": [
    "## 3. Learning process"
   ]
  },
  {
   "cell_type": "markdown",
   "metadata": {},
   "source": [
    "### 3.1 Epoches"
   ]
  },
  {
   "cell_type": "code",
   "execution_count": 592,
   "metadata": {},
   "outputs": [
    {
     "name": "stdout",
     "output_type": "stream",
     "text": [
      "[6, 6, 'O/o5_Dron.png']\n",
      "---------\n"
     ]
    }
   ],
   "source": [
    "# Such a structure appeared to be one of the most realible \n",
    "network = NeuralNetwork(100, 60, 60)\n",
    "\n",
    "# During the working process it was essential to understand the maximum length of study\n",
    "random.shuffle(train)\n",
    "for sample in samples:\n",
    "    network.request(sample[0], sample[1])\n",
    "print(network.max) \n",
    "print('---------')\n",
    "network.counter = 0"
   ]
  },
  {
   "cell_type": "markdown",
   "metadata": {},
   "source": [
    "### 3.2 Processing tests"
   ]
  },
  {
   "cell_type": "code",
   "execution_count": 593,
   "metadata": {},
   "outputs": [],
   "source": [
    "separator=255\n",
    "trials = []\n",
    "data = np.zeros((10, 10))\n",
    "\n",
    "#interpret of the train images as the binary arrays \n",
    "for file in test:\n",
    "    letter = Image.open(os.path.abspath('test/' + file))\n",
    "    data = np.array(letter.convert('L'))\n",
    "    data = data.astype('int')\n",
    "    for i in range(len(data)):\n",
    "        for j in range(len(data[0])):\n",
    "            data[i][j] = 1 if data[i][j] != separator else -1\n",
    "    trials.insert(-1, [data, file])     "
   ]
  },
  {
   "cell_type": "markdown",
   "metadata": {},
   "source": [
    "### 3.3 Answer of Neural network"
   ]
  },
  {
   "cell_type": "code",
   "execution_count": 594,
   "metadata": {},
   "outputs": [
    {
     "name": "stdout",
     "output_type": "stream",
     "text": [
      "Testing № 1 completed. The requested image o7_Bor.png contained letter O.\n",
      "Testing № 2 completed. The requested image a1_DNA.png contained letter A.\n",
      "Testing № 3 completed. The requested image o1_DNA.png contained letter O.\n",
      "Testing № 4 completed. The requested image a4_Bor.png contained letter A.\n",
      "Testing № 5 completed. The requested image a8_Ryzhin.png contained letter A.\n",
      "Testing № 6 completed. The requested image o7_DNA.png contained letter O.\n",
      "Testing № 7 completed. The requested image a1_Bor.png contained letter A.\n",
      "Testing № 8 completed. The requested image a6_Bor.png contained letter A.\n",
      "Testing № 9 completed. The requested image a3_DNA.png contained letter A.\n",
      "Testing № 10 completed. The requested image o2_Vova.png contained letter O.\n",
      "Testing № 11 completed. The requested image o4_Vova.png contained letter O.\n",
      "Testing № 12 completed. The requested image o0_Vova.png contained letter O.\n",
      "Testing № 13 completed. The requested image o0_Bor.png contained letter O.\n",
      "Testing № 14 completed. The requested image a3_Bor.png contained letter A.\n",
      "Testing № 15 completed. The requested image a3_Vova.png contained letter A.\n",
      "Testing № 16 completed. The requested image o6_Vlad.png contained letter O.\n",
      "Testing № 17 completed. The requested image a8_Vova.png contained letter A.\n",
      "Testing № 18 completed. The requested image o0_DNA.png contained letter O.\n",
      "Testing № 19 completed. The requested image a0_Ryzhin.png contained letter A.\n",
      "Testing № 20 completed. The requested image o9_Vlad.png contained letter O.\n",
      "Testing № 21 completed. The requested image a8_Bor.png contained letter O.\n",
      "Testing № 22 completed. The requested image a2_Ryzhin.png contained letter O.\n",
      "Testing № 23 completed. The requested image a4_DNA.png contained letter A.\n",
      "Testing № 24 completed. The requested image o3_Vova.png contained letter O.\n",
      "Testing № 25 completed. The requested image a8_DNA.png contained letter A.\n",
      "Testing № 26 completed. The requested image a1_Vova.png contained letter A.\n",
      "Testing № 27 completed. The requested image a4_Vlad.png contained letter A.\n",
      "Testing № 28 completed. The requested image o6_Dron.png contained letter O.\n",
      "Testing № 29 completed. The requested image a0_Bor.png contained letter A.\n",
      "Testing № 30 completed. The requested image o9_DNA.png contained letter O.\n",
      "Out of 30 trials 28 were correct!\n"
     ]
    }
   ],
   "source": [
    "for trial in trials:\n",
    "    network.testing(trial[0], trial[1])\n",
    "print('Out of 30 trials ' + str(network.correct) + ' were correct!')\n",
    "network.correct = 0"
   ]
  },
  {
   "cell_type": "markdown",
   "metadata": {},
   "source": [
    "## 4 Final test"
   ]
  },
  {
   "cell_type": "markdown",
   "metadata": {},
   "source": [
    "### 4.1 Binarization of final images"
   ]
  },
  {
   "cell_type": "code",
   "execution_count": 597,
   "metadata": {},
   "outputs": [],
   "source": [
    "final = []\n",
    "# Final tests for the NN with images created by supervisor in real time\n",
    "for file in os.scandir(r'Final'):\n",
    "    if file.name.endswith(\".png\"):\n",
    "        final.insert(-1, 'Final/' + file.name)\n",
    "\n",
    "for file in final:\n",
    "    letter = Image.open(os.path.abspath(file))\n",
    "    letter.thumbnail((10, 10), Image.ANTIALIAS)\n",
    "    letter.save('teacher/{id}'.format(id = file), quality=95)  \n",
    "    \n",
    "    \n",
    "separator=255\n",
    "result = []\n",
    "data = np.zeros((10, 10))\n",
    "\n",
    "#interpret of the train images as the binary arrays \n",
    "for file in final:\n",
    "    letter = Image.open(os.path.abspath('teacher/' + file))\n",
    "    data = np.array(letter.convert('L'))\n",
    "    data = data.astype('int')\n",
    "    for i in range(len(data)):\n",
    "        for j in range(len(data[0])):\n",
    "            data[i][j] = 1 if data[i][j] != separator else -1\n",
    "    result.insert(-1, [data, file])      "
   ]
  },
  {
   "cell_type": "markdown",
   "metadata": {},
   "source": [
    "### 4.2 Result"
   ]
  },
  {
   "cell_type": "code",
   "execution_count": 601,
   "metadata": {},
   "outputs": [
    {
     "name": "stdout",
     "output_type": "stream",
     "text": [
      "Testing № 59 completed. The requested image A_five.png contained letter A.\n",
      "Testing № 60 completed. The requested image A_six.png contained letter A.\n",
      "Testing № 61 completed. The requested image A_one.png contained letter A.\n",
      "Testing № 62 completed. The requested image O_gour.png contained letter O.\n",
      "Testing № 63 completed. The requested image O_three.png contained letter O.\n",
      "Testing № 64 completed. The requested image O_seven.png contained letter O.\n",
      "Testing № 65 completed. The requested image B_two.png contained letter A.\n",
      "Out of 7 trials 6 were correct!\n"
     ]
    }
   ],
   "source": [
    "for trial in result:\n",
    "    network.testing(trial[0], trial[1])\n",
    "print('Out of 7 trials ' + str(network.correct) + ' were correct!') \n",
    "network.correct = 0"
   ]
  },
  {
   "cell_type": "code",
   "execution_count": null,
   "metadata": {},
   "outputs": [],
   "source": []
  }
 ],
 "metadata": {
  "kernelspec": {
   "display_name": "Python 3",
   "language": "python",
   "name": "python3"
  },
  "language_info": {
   "codemirror_mode": {
    "name": "ipython",
    "version": 3
   },
   "file_extension": ".py",
   "mimetype": "text/x-python",
   "name": "python",
   "nbconvert_exporter": "python",
   "pygments_lexer": "ipython3",
   "version": "3.7.4"
  }
 },
 "nbformat": 4,
 "nbformat_minor": 2
}
